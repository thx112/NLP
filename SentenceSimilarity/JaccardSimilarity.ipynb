{
 "cells": [
  {
   "cell_type": "markdown",
   "metadata": {},
   "source": [
    "两个集合A和B交集元素的个数在A、B并集中所占的比例，称为这两个集合的杰卡德系数，用符号 J(A,B) 表示。杰卡德相似系数是衡量两个集合相似度的一种指标（余弦距离也可以用来衡量两个集合的相似度）。\n",
    "\n",
    "J(A,B)=|A∩B||A∪B|"
   ]
  },
  {
   "cell_type": "code",
   "execution_count": 1,
   "metadata": {},
   "outputs": [
    {
     "name": "stdout",
     "output_type": "stream",
     "text": [
      "0.7272727272727273\n"
     ]
    }
   ],
   "source": [
    "from sklearn.feature_extraction.text import CountVectorizer\n",
    "import numpy as np\n",
    "\n",
    "def jaccard_similarity(str1, str2):\n",
    "    def add_space(str):\n",
    "        return ' '.join(list(str))\n",
    "    \n",
    "    # 将字中间加入空格\n",
    "    str1, str2 = add_space(str1), add_space(str2)\n",
    "    # 转化为TF矩阵\n",
    "    cv = CountVectorizer(tokenizer=lambda str: str.split())\n",
    "    corpus = [str1, str2]\n",
    "    vectors = cv.fit_transform(corpus).toarray()\n",
    "    # 求交集\n",
    "    numerator = np.sum(np.min(vectors, axis=0))\n",
    "    # 求并集\n",
    "    denominator = np.sum(np.max(vectors, axis=0))\n",
    "    # 计算杰卡德系数\n",
    "    return 1.0 * numerator / denominator\n",
    "\n",
    "\n",
    "str1 = '今天学习了自然语言处理'\n",
    "str2 = '今天学习语言处理'\n",
    "print(jaccard_similarity(str1, str2))"
   ]
  },
  {
   "cell_type": "code",
   "execution_count": null,
   "metadata": {},
   "outputs": [],
   "source": []
  }
 ],
 "metadata": {
  "kernelspec": {
   "display_name": "Python 3",
   "language": "python",
   "name": "python3"
  },
  "language_info": {
   "codemirror_mode": {
    "name": "ipython",
    "version": 3
   },
   "file_extension": ".py",
   "mimetype": "text/x-python",
   "name": "python",
   "nbconvert_exporter": "python",
   "pygments_lexer": "ipython3",
   "version": "3.7.3"
  }
 },
 "nbformat": 4,
 "nbformat_minor": 2
}
